{
 "cells": [
  {
   "cell_type": "markdown",
   "metadata": {},
   "source": [
    "# Importing required libraries"
   ]
  },
  {
   "cell_type": "code",
   "execution_count": 1,
   "metadata": {
    "executionInfo": {
     "elapsed": 7382,
     "status": "ok",
     "timestamp": 1703345014581,
     "user": {
      "displayName": "RAHUL MAURYA",
      "userId": "06880550757033655029"
     },
     "user_tz": -330
    },
    "id": "ChT1jNmL9HUe",
    "tags": []
   },
   "outputs": [],
   "source": [
    "import os\n",
    "\n",
    "import numpy as np\n",
    "from PIL import Image\n",
    "\n",
    "from sklearn.model_selection import train_test_split\n",
    "\n",
    "import tensorflow as tf\n",
    "from tensorflow.keras import layers, models\n",
    "from tensorflow.keras.callbacks import EarlyStopping\n",
    "from tensorflow.keras.preprocessing.image import ImageDataGenerator"
   ]
  },
  {
   "cell_type": "markdown",
   "metadata": {},
   "source": [
    "# Function for loading the data."
   ]
  },
  {
   "cell_type": "code",
   "execution_count": 6,
   "metadata": {
    "executionInfo": {
     "elapsed": 29,
     "status": "ok",
     "timestamp": 1703345014582,
     "user": {
      "displayName": "RAHUL MAURYA",
      "userId": "06880550757033655029"
     },
     "user_tz": -330
    },
    "id": "NvMQRbYr9tF8",
    "tags": []
   },
   "outputs": [],
   "source": [
    "def load_data(data_dir):\n",
    "    images = []\n",
    "    labels = []\n",
    "\n",
    "    for filename in os.listdir(data_dir):\n",
    "        if filename.endswith(\".png\"):\n",
    "            img_path = os.path.join(data_dir, filename)\n",
    "            label_str = filename.split(\".\")[0]\n",
    "            label = [int(digit) for digit in label_str]\n",
    "\n",
    "            img = Image.open(img_path).convert('L')  # Convert to grayscale\n",
    "            img = np.array(img) / 255.0  # Normalize pixel values to the range [0, 1]\n",
    "\n",
    "            images.append(img)\n",
    "            labels.append(label)\n",
    "    return np.array(images), np.array(labels)"
   ]
  },
  {
   "cell_type": "markdown",
   "metadata": {},
   "source": [
    "# Function containing the model architecture"
   ]
  },
  {
   "cell_type": "code",
   "execution_count": 7,
   "metadata": {
    "tags": []
   },
   "outputs": [],
   "source": [
    "def ocr(image_height, image_width):\n",
    "    model = models.Sequential()\n",
    "    model.add(layers.Conv2D(32, (3, 3), activation='relu', input_shape=(image_height, image_width, 1)))\n",
    "    model.add(layers.MaxPooling2D((2, 2)))\n",
    "    model.add(layers.Conv2D(64, (3, 3), activation='relu'))\n",
    "    model.add(layers.MaxPooling2D((2, 2)))\n",
    "    model.add(layers.Conv2D(128, (3, 3), activation='relu'))\n",
    "    model.add(layers.MaxPooling2D((2, 2)))\n",
    "    model.add(layers.Conv2D(64, (3, 3), activation='relu'))\n",
    "    model.add(layers.MaxPooling2D((2, 2)))\n",
    "    model.add(layers.Flatten())\n",
    "    model.add(layers.RepeatVector(6))  # Repeat the vector 6 times to match the sequence length\n",
    "    model.add(layers.LSTM(64, return_sequences=True))\n",
    "    model.add(layers.TimeDistributed(layers.Dense(10, activation='softmax')))\n",
    "    return model"
   ]
  },
  {
   "cell_type": "markdown",
   "metadata": {},
   "source": [
    "# Printing the Summary of the model"
   ]
  },
  {
   "cell_type": "markdown",
   "metadata": {},
   "source": [
    "# Loading the images and logits using load_data() funtion."
   ]
  },
  {
   "cell_type": "code",
   "execution_count": 8,
   "metadata": {
    "executionInfo": {
     "elapsed": 31515,
     "status": "ok",
     "timestamp": 1703345046071,
     "user": {
      "displayName": "RAHUL MAURYA",
      "userId": "06880550757033655029"
     },
     "user_tz": -330
    },
    "id": "KlkMDor99_eU",
    "tags": []
   },
   "outputs": [],
   "source": [
    "data_path = 'captcha_assignment_images/Gujarat_Rural_Captchas/'\n",
    "images, labels = load_data(data_path)"
   ]
  },
  {
   "cell_type": "markdown",
   "metadata": {},
   "source": [
    "# Creating ImageDataGenerator object for Image Data Augmentation."
   ]
  },
  {
   "cell_type": "code",
   "execution_count": 10,
   "metadata": {
    "executionInfo": {
     "elapsed": 18,
     "status": "ok",
     "timestamp": 1703345046072,
     "user": {
      "displayName": "RAHUL MAURYA",
      "userId": "06880550757033655029"
     },
     "user_tz": -330
    },
    "id": "jCbDyhSY-BOA",
    "tags": []
   },
   "outputs": [],
   "source": [
    "datagen = ImageDataGenerator(\n",
    "    rotation_range=10,\n",
    "    zoom_range=0.1,\n",
    "    width_shift_range=0.1,\n",
    "    height_shift_range=0.1,\n",
    "    horizontal_flip=False\n",
    ")"
   ]
  },
  {
   "cell_type": "markdown",
   "metadata": {},
   "source": [
    "# Splitting the data into train, test and val set"
   ]
  },
  {
   "cell_type": "code",
   "execution_count": 9,
   "metadata": {
    "colab": {
     "base_uri": "https://localhost:8080/"
    },
    "executionInfo": {
     "elapsed": 17,
     "status": "ok",
     "timestamp": 1703345046073,
     "user": {
      "displayName": "RAHUL MAURYA",
      "userId": "06880550757033655029"
     },
     "user_tz": -330
    },
    "id": "9TxLFp9N-EAm",
    "outputId": "f00a5fc7-7b18-4c83-e0bc-e68af08fdf0b",
    "tags": []
   },
   "outputs": [
    {
     "data": {
      "text/plain": [
       "((1419, 80, 190),\n",
       " (177, 80, 190),\n",
       " (178, 80, 190),\n",
       " (1419, 6),\n",
       " (177, 6),\n",
       " (178, 6))"
      ]
     },
     "execution_count": 9,
     "metadata": {},
     "output_type": "execute_result"
    }
   ],
   "source": [
    "# Convert labels to padded sequences\n",
    "# labels = preprocessing.sequence.pad_sequences(labels, padding='post', value=-1, maxlen=7)\n",
    "\n",
    "# Split the dataset into training and testing sets\n",
    "X_train, X_test, y_train, y_test = train_test_split(images, labels, test_size=0.2, random_state=42)\n",
    "X_test, X_val, y_test, y_val = train_test_split(X_test, y_test, test_size=0.5, random_state=42)\n",
    "\n",
    "X_train.shape, X_test.shape, X_val.shape, y_train.shape, y_test.shape, y_val.shape"
   ]
  },
  {
   "cell_type": "markdown",
   "metadata": {},
   "source": [
    "# Converting Y logits to one hot encoding"
   ]
  },
  {
   "cell_type": "code",
   "execution_count": 10,
   "metadata": {
    "executionInfo": {
     "elapsed": 14,
     "status": "ok",
     "timestamp": 1703345046074,
     "user": {
      "displayName": "RAHUL MAURYA",
      "userId": "06880550757033655029"
     },
     "user_tz": -330
    },
    "id": "3lV-x85Z-yVr",
    "tags": []
   },
   "outputs": [],
   "source": [
    "# Convert labels to one-hot encoding\n",
    "y_train_one_hot = tf.keras.utils.to_categorical(y_train, num_classes=10)\n",
    "y_test_one_hot = tf.keras.utils.to_categorical(y_test, num_classes=10)\n",
    "y_val_one_hot = tf.keras.utils.to_categorical(y_val, num_classes=10)"
   ]
  },
  {
   "cell_type": "markdown",
   "metadata": {},
   "source": [
    "# Defining batch_size, reshaping X and Y data and creating generator objects for train, test and val."
   ]
  },
  {
   "cell_type": "code",
   "execution_count": 88,
   "metadata": {
    "executionInfo": {
     "elapsed": 13,
     "status": "ok",
     "timestamp": 1703345046074,
     "user": {
      "displayName": "RAHUL MAURYA",
      "userId": "06880550757033655029"
     },
     "user_tz": -330
    },
    "id": "htiQxNCF-15Z",
    "tags": []
   },
   "outputs": [],
   "source": [
    "# Train the model using tf.data.Dataset\n",
    "batch_size = 16\n",
    "X_train = X_train.reshape(-1, 80, 190, 1)\n",
    "X_test = X_test.reshape(-1, 80, 190, 1)\n",
    "X_val = X_val.reshape(-1, 80, 190, 1)\n",
    "\n",
    "y_train_one_hot = y_train_one_hot.reshape(-1, 6, 10)\n",
    "y_test_one_hot = y_test_one_hot.reshape(-1, 6, 10)\n",
    "y_val_one_hot = y_val_one_hot.reshape(-1, 6, 10)\n",
    "\n",
    "train_generator = datagen.flow(X_train, y_train_one_hot, batch_size=batch_size)\n",
    "test_generator = datagen.flow(X_test, y_test_one_hot, batch_size=batch_size)\n",
    "val_generator = datagen.flow(X_val, y_val_one_hot, batch_size=batch_size)"
   ]
  },
  {
   "cell_type": "markdown",
   "metadata": {},
   "source": [
    "# Initializing the model, saving it's architecture to a json object, initializing optimizer, compiling model"
   ]
  },
  {
   "cell_type": "code",
   "execution_count": null,
   "metadata": {
    "tags": []
   },
   "outputs": [
    {
     "name": "stdout",
     "output_type": "stream",
     "text": [
      "Model: \"sequential\"\n",
      "_________________________________________________________________\n",
      " Layer (type)                Output Shape              Param #   \n",
      "=================================================================\n",
      " conv2d (Conv2D)             (None, 188, 78, 32)       320       \n",
      "                                                                 \n",
      " max_pooling2d (MaxPooling2  (None, 94, 39, 32)        0         \n",
      " D)                                                              \n",
      "                                                                 \n",
      " conv2d_1 (Conv2D)           (None, 92, 37, 64)        18496     \n",
      "                                                                 \n",
      " max_pooling2d_1 (MaxPoolin  (None, 46, 18, 64)        0         \n",
      " g2D)                                                            \n",
      "                                                                 \n",
      " conv2d_2 (Conv2D)           (None, 44, 16, 128)       73856     \n",
      "                                                                 \n",
      " max_pooling2d_2 (MaxPoolin  (None, 22, 8, 128)        0         \n",
      " g2D)                                                            \n",
      "                                                                 \n",
      " conv2d_3 (Conv2D)           (None, 20, 6, 64)         73792     \n",
      "                                                                 \n",
      " max_pooling2d_3 (MaxPoolin  (None, 10, 3, 64)         0         \n",
      " g2D)                                                            \n",
      "                                                                 \n",
      " flatten (Flatten)           (None, 1920)              0         \n",
      "                                                                 \n",
      " repeat_vector (RepeatVecto  (None, 6, 1920)           0         \n",
      " r)                                                              \n",
      "                                                                 \n",
      " lstm (LSTM)                 (None, 6, 64)             508160    \n",
      "                                                                 \n",
      " time_distributed (TimeDist  (None, 6, 10)             650       \n",
      " ributed)                                                        \n",
      "                                                                 \n",
      "=================================================================\n",
      "Total params: 675274 (2.58 MB)\n",
      "Trainable params: 675274 (2.58 MB)\n",
      "Non-trainable params: 0 (0.00 Byte)\n",
      "_________________________________________________________________\n"
     ]
    }
   ],
   "source": [
    "model = ocr(X_train.shape[1], X_train.shape[2])\n",
    "\n",
    "# Converting model to json object for saving model architecture.\n",
    "model_json = model.to_json()\n",
    "\n",
    "# Saving model architecture.\n",
    "with open('ocr_model.json', 'w') as json_file:\n",
    "    json_file.write(model_json)\n",
    "\n",
    "# Initializing Optimizer.\n",
    "optimizer = tf.keras.optimizers.Adam(learning_rate=0.001)\n",
    "# Initializing EarlyStopping\n",
    "early_stopping = EarlyStopping(monitor='val_loss', patience=10, restore_best_weights=True)\n",
    "\n",
    "# Compile the model\n",
    "model.compile(optimizer=optimizer, loss='categorical_crossentropy', metrics=['accuracy'])\n",
    "model.summary()"
   ]
  },
  {
   "cell_type": "markdown",
   "metadata": {},
   "source": [
    "# Training the model"
   ]
  },
  {
   "cell_type": "code",
   "execution_count": 118,
   "metadata": {
    "colab": {
     "background_save": true,
     "base_uri": "https://localhost:8080/",
     "height": 963
    },
    "collapsed": true,
    "id": "7lRRqvF4-5hj",
    "jupyter": {
     "outputs_hidden": true
    },
    "tags": []
   },
   "outputs": [
    {
     "name": "stdout",
     "output_type": "stream",
     "text": [
      "Epoch 1/100\n",
      "89/89 [==============================] - 6s 24ms/step - loss: 1.9795 - accuracy: 0.2915 - val_loss: 1.7990 - val_accuracy: 0.3081\n",
      "Epoch 2/100\n",
      "89/89 [==============================] - 2s 20ms/step - loss: 1.7891 - accuracy: 0.3019 - val_loss: 1.7582 - val_accuracy: 0.2968\n",
      "Epoch 3/100\n",
      "89/89 [==============================] - 2s 20ms/step - loss: 1.7728 - accuracy: 0.3069 - val_loss: 1.7401 - val_accuracy: 0.3099\n",
      "Epoch 4/100\n",
      "89/89 [==============================] - 2s 21ms/step - loss: 1.7679 - accuracy: 0.3071 - val_loss: 1.7545 - val_accuracy: 0.3062\n",
      "Epoch 5/100\n",
      "89/89 [==============================] - 2s 20ms/step - loss: 1.7620 - accuracy: 0.3144 - val_loss: 1.7310 - val_accuracy: 0.3099\n",
      "Epoch 6/100\n",
      "89/89 [==============================] - 2s 20ms/step - loss: 1.7598 - accuracy: 0.3135 - val_loss: 1.7288 - val_accuracy: 0.3034\n",
      "Epoch 7/100\n",
      "89/89 [==============================] - 2s 20ms/step - loss: 1.7580 - accuracy: 0.3100 - val_loss: 1.7263 - val_accuracy: 0.3240\n",
      "Epoch 8/100\n",
      "89/89 [==============================] - 2s 20ms/step - loss: 1.7546 - accuracy: 0.3067 - val_loss: 1.7362 - val_accuracy: 0.2959\n",
      "Epoch 9/100\n",
      "89/89 [==============================] - 2s 20ms/step - loss: 1.7364 - accuracy: 0.3197 - val_loss: 1.7017 - val_accuracy: 0.3062\n",
      "Epoch 10/100\n",
      "89/89 [==============================] - 2s 20ms/step - loss: 1.7089 - accuracy: 0.3508 - val_loss: 1.6479 - val_accuracy: 0.3727\n",
      "Epoch 11/100\n",
      "89/89 [==============================] - 2s 20ms/step - loss: 1.6260 - accuracy: 0.3979 - val_loss: 1.5986 - val_accuracy: 0.4232\n",
      "Epoch 12/100\n",
      "89/89 [==============================] - 2s 20ms/step - loss: 1.5530 - accuracy: 0.4325 - val_loss: 1.4947 - val_accuracy: 0.4710\n",
      "Epoch 13/100\n",
      "89/89 [==============================] - 2s 20ms/step - loss: 1.4774 - accuracy: 0.4614 - val_loss: 1.4259 - val_accuracy: 0.4860\n",
      "Epoch 14/100\n",
      "89/89 [==============================] - 2s 20ms/step - loss: 1.3911 - accuracy: 0.4875 - val_loss: 1.3248 - val_accuracy: 0.5272\n",
      "Epoch 15/100\n",
      "89/89 [==============================] - 2s 20ms/step - loss: 1.3086 - accuracy: 0.5198 - val_loss: 1.2461 - val_accuracy: 0.5506\n",
      "Epoch 16/100\n",
      "89/89 [==============================] - 2s 20ms/step - loss: 1.2031 - accuracy: 0.5679 - val_loss: 1.1594 - val_accuracy: 0.6124\n",
      "Epoch 17/100\n",
      "89/89 [==============================] - 2s 20ms/step - loss: 1.0942 - accuracy: 0.6140 - val_loss: 1.0420 - val_accuracy: 0.6386\n",
      "Epoch 18/100\n",
      "89/89 [==============================] - 2s 20ms/step - loss: 1.0068 - accuracy: 0.6542 - val_loss: 0.9749 - val_accuracy: 0.6554\n",
      "Epoch 19/100\n",
      "89/89 [==============================] - 2s 20ms/step - loss: 0.9103 - accuracy: 0.6885 - val_loss: 0.9001 - val_accuracy: 0.6919\n",
      "Epoch 20/100\n",
      "89/89 [==============================] - 2s 20ms/step - loss: 0.8461 - accuracy: 0.7165 - val_loss: 0.8051 - val_accuracy: 0.7313\n",
      "Epoch 21/100\n",
      "89/89 [==============================] - 2s 20ms/step - loss: 0.7521 - accuracy: 0.7550 - val_loss: 0.7106 - val_accuracy: 0.7715\n",
      "Epoch 22/100\n",
      "89/89 [==============================] - 2s 20ms/step - loss: 0.6939 - accuracy: 0.7777 - val_loss: 0.6469 - val_accuracy: 0.8015\n",
      "Epoch 23/100\n",
      "89/89 [==============================] - 2s 20ms/step - loss: 0.6311 - accuracy: 0.8037 - val_loss: 0.6308 - val_accuracy: 0.8127\n",
      "Epoch 24/100\n",
      "89/89 [==============================] - 2s 20ms/step - loss: 0.5578 - accuracy: 0.8313 - val_loss: 0.5804 - val_accuracy: 0.8324\n",
      "Epoch 25/100\n",
      "89/89 [==============================] - 2s 20ms/step - loss: 0.5340 - accuracy: 0.8392 - val_loss: 0.5295 - val_accuracy: 0.8558\n",
      "Epoch 26/100\n",
      "89/89 [==============================] - 2s 20ms/step - loss: 0.4788 - accuracy: 0.8620 - val_loss: 0.4974 - val_accuracy: 0.8483\n",
      "Epoch 27/100\n",
      "89/89 [==============================] - 2s 20ms/step - loss: 0.4367 - accuracy: 0.8730 - val_loss: 0.4591 - val_accuracy: 0.8745\n",
      "Epoch 28/100\n",
      "89/89 [==============================] - 2s 20ms/step - loss: 0.3888 - accuracy: 0.8912 - val_loss: 0.4495 - val_accuracy: 0.8642\n",
      "Epoch 29/100\n",
      "89/89 [==============================] - 2s 20ms/step - loss: 0.3753 - accuracy: 0.8959 - val_loss: 0.4245 - val_accuracy: 0.8745\n",
      "Epoch 30/100\n",
      "89/89 [==============================] - 2s 20ms/step - loss: 0.3435 - accuracy: 0.9042 - val_loss: 0.3981 - val_accuracy: 0.8839\n",
      "Epoch 31/100\n",
      "89/89 [==============================] - 2s 20ms/step - loss: 0.3294 - accuracy: 0.9107 - val_loss: 0.4009 - val_accuracy: 0.8858\n",
      "Epoch 32/100\n",
      "89/89 [==============================] - 2s 20ms/step - loss: 0.3015 - accuracy: 0.9161 - val_loss: 0.3076 - val_accuracy: 0.9195\n",
      "Epoch 33/100\n",
      "89/89 [==============================] - 2s 20ms/step - loss: 0.2817 - accuracy: 0.9251 - val_loss: 0.3100 - val_accuracy: 0.9110\n",
      "Epoch 34/100\n",
      "89/89 [==============================] - 2s 20ms/step - loss: 0.2692 - accuracy: 0.9266 - val_loss: 0.3105 - val_accuracy: 0.9167\n",
      "Epoch 35/100\n",
      "89/89 [==============================] - 2s 20ms/step - loss: 0.2454 - accuracy: 0.9340 - val_loss: 0.3127 - val_accuracy: 0.9167\n",
      "Epoch 36/100\n",
      "89/89 [==============================] - 2s 20ms/step - loss: 0.2296 - accuracy: 0.9397 - val_loss: 0.2427 - val_accuracy: 0.9382\n",
      "Epoch 37/100\n",
      "89/89 [==============================] - 2s 20ms/step - loss: 0.2235 - accuracy: 0.9403 - val_loss: 0.2693 - val_accuracy: 0.9232\n",
      "Epoch 38/100\n",
      "89/89 [==============================] - 2s 20ms/step - loss: 0.2149 - accuracy: 0.9424 - val_loss: 0.2547 - val_accuracy: 0.9279\n",
      "Epoch 39/100\n",
      "89/89 [==============================] - 2s 19ms/step - loss: 0.1980 - accuracy: 0.9488 - val_loss: 0.2332 - val_accuracy: 0.9345\n",
      "Epoch 40/100\n",
      "89/89 [==============================] - 2s 20ms/step - loss: 0.1811 - accuracy: 0.9507 - val_loss: 0.2610 - val_accuracy: 0.9373\n",
      "Epoch 41/100\n",
      "89/89 [==============================] - 2s 20ms/step - loss: 0.1872 - accuracy: 0.9513 - val_loss: 0.2696 - val_accuracy: 0.9345\n",
      "Epoch 42/100\n",
      "89/89 [==============================] - 2s 20ms/step - loss: 0.1683 - accuracy: 0.9576 - val_loss: 0.2277 - val_accuracy: 0.9429\n",
      "Epoch 43/100\n",
      "89/89 [==============================] - 2s 20ms/step - loss: 0.1698 - accuracy: 0.9575 - val_loss: 0.1981 - val_accuracy: 0.9504\n",
      "Epoch 44/100\n",
      "89/89 [==============================] - 2s 19ms/step - loss: 0.1585 - accuracy: 0.9592 - val_loss: 0.2209 - val_accuracy: 0.9391\n",
      "Epoch 45/100\n",
      "89/89 [==============================] - 2s 19ms/step - loss: 0.1476 - accuracy: 0.9644 - val_loss: 0.2128 - val_accuracy: 0.9457\n",
      "Epoch 46/100\n",
      "89/89 [==============================] - 2s 20ms/step - loss: 0.1567 - accuracy: 0.9575 - val_loss: 0.2248 - val_accuracy: 0.9382\n",
      "Epoch 47/100\n",
      "89/89 [==============================] - 2s 19ms/step - loss: 0.1426 - accuracy: 0.9628 - val_loss: 0.1950 - val_accuracy: 0.9457\n",
      "Epoch 48/100\n",
      "89/89 [==============================] - 2s 20ms/step - loss: 0.1335 - accuracy: 0.9661 - val_loss: 0.1770 - val_accuracy: 0.9541\n",
      "Epoch 49/100\n",
      "89/89 [==============================] - 2s 20ms/step - loss: 0.1355 - accuracy: 0.9646 - val_loss: 0.1876 - val_accuracy: 0.9457\n",
      "Epoch 50/100\n",
      "89/89 [==============================] - 2s 20ms/step - loss: 0.1168 - accuracy: 0.9696 - val_loss: 0.1778 - val_accuracy: 0.9494\n",
      "Epoch 51/100\n",
      "89/89 [==============================] - 2s 19ms/step - loss: 0.1203 - accuracy: 0.9704 - val_loss: 0.1935 - val_accuracy: 0.9476\n",
      "Epoch 52/100\n",
      "89/89 [==============================] - 2s 20ms/step - loss: 0.1162 - accuracy: 0.9703 - val_loss: 0.2063 - val_accuracy: 0.9438\n",
      "Epoch 53/100\n",
      "89/89 [==============================] - 2s 20ms/step - loss: 0.1189 - accuracy: 0.9669 - val_loss: 0.1927 - val_accuracy: 0.9504\n",
      "Epoch 54/100\n",
      "89/89 [==============================] - 2s 20ms/step - loss: 0.1185 - accuracy: 0.9709 - val_loss: 0.1732 - val_accuracy: 0.9560\n",
      "Epoch 55/100\n",
      "89/89 [==============================] - 2s 20ms/step - loss: 0.1107 - accuracy: 0.9720 - val_loss: 0.1996 - val_accuracy: 0.9457\n",
      "Epoch 56/100\n",
      "89/89 [==============================] - 2s 19ms/step - loss: 0.1022 - accuracy: 0.9737 - val_loss: 0.1858 - val_accuracy: 0.9476\n",
      "Epoch 57/100\n",
      "89/89 [==============================] - 2s 20ms/step - loss: 0.1019 - accuracy: 0.9736 - val_loss: 0.1617 - val_accuracy: 0.9532\n",
      "Epoch 58/100\n",
      "89/89 [==============================] - 2s 20ms/step - loss: 0.1005 - accuracy: 0.9726 - val_loss: 0.1296 - val_accuracy: 0.9654\n",
      "Epoch 59/100\n",
      "89/89 [==============================] - 2s 20ms/step - loss: 0.1129 - accuracy: 0.9702 - val_loss: 0.1507 - val_accuracy: 0.9654\n",
      "Epoch 60/100\n",
      "89/89 [==============================] - 2s 19ms/step - loss: 0.0991 - accuracy: 0.9737 - val_loss: 0.1472 - val_accuracy: 0.9616\n",
      "Epoch 61/100\n",
      "89/89 [==============================] - 2s 19ms/step - loss: 0.1037 - accuracy: 0.9729 - val_loss: 0.1798 - val_accuracy: 0.9560\n",
      "Epoch 62/100\n",
      "89/89 [==============================] - 2s 20ms/step - loss: 0.0897 - accuracy: 0.9773 - val_loss: 0.1682 - val_accuracy: 0.9560\n",
      "Epoch 63/100\n",
      "89/89 [==============================] - 2s 19ms/step - loss: 0.0943 - accuracy: 0.9747 - val_loss: 0.1975 - val_accuracy: 0.9560\n",
      "Epoch 64/100\n",
      "89/89 [==============================] - 2s 20ms/step - loss: 0.0889 - accuracy: 0.9764 - val_loss: 0.1608 - val_accuracy: 0.9579\n",
      "Epoch 65/100\n",
      "89/89 [==============================] - 2s 20ms/step - loss: 0.0863 - accuracy: 0.9794 - val_loss: 0.1236 - val_accuracy: 0.9691\n",
      "Epoch 66/100\n",
      "89/89 [==============================] - 2s 20ms/step - loss: 0.0967 - accuracy: 0.9737 - val_loss: 0.1696 - val_accuracy: 0.9579\n",
      "Epoch 67/100\n",
      "89/89 [==============================] - 2s 19ms/step - loss: 0.0845 - accuracy: 0.9798 - val_loss: 0.1526 - val_accuracy: 0.9635\n",
      "Epoch 68/100\n",
      "89/89 [==============================] - 2s 20ms/step - loss: 0.0889 - accuracy: 0.9757 - val_loss: 0.1407 - val_accuracy: 0.9644\n",
      "Epoch 69/100\n",
      "89/89 [==============================] - 2s 19ms/step - loss: 0.0893 - accuracy: 0.9770 - val_loss: 0.1423 - val_accuracy: 0.9597\n",
      "Epoch 70/100\n",
      "89/89 [==============================] - 2s 20ms/step - loss: 0.0735 - accuracy: 0.9803 - val_loss: 0.1657 - val_accuracy: 0.9551\n",
      "Epoch 71/100\n",
      "89/89 [==============================] - 2s 20ms/step - loss: 0.0858 - accuracy: 0.9774 - val_loss: 0.1457 - val_accuracy: 0.9625\n",
      "Epoch 72/100\n",
      "89/89 [==============================] - 2s 19ms/step - loss: 0.0829 - accuracy: 0.9786 - val_loss: 0.1577 - val_accuracy: 0.9560\n",
      "Epoch 73/100\n",
      "89/89 [==============================] - 2s 20ms/step - loss: 0.0766 - accuracy: 0.9780 - val_loss: 0.1624 - val_accuracy: 0.9504\n",
      "Epoch 74/100\n",
      "89/89 [==============================] - 2s 20ms/step - loss: 0.0755 - accuracy: 0.9784 - val_loss: 0.1504 - val_accuracy: 0.9560\n",
      "Epoch 75/100\n",
      "89/89 [==============================] - 2s 20ms/step - loss: 0.0673 - accuracy: 0.9824 - val_loss: 0.1431 - val_accuracy: 0.9588\n"
     ]
    },
    {
     "data": {
      "text/plain": [
       "<keras.src.callbacks.History at 0x7f4428502d40>"
      ]
     },
     "execution_count": 118,
     "metadata": {},
     "output_type": "execute_result"
    }
   ],
   "source": [
    "# Train the model\n",
    "model.fit(train_generator, epochs=100, batch_size=batch_size, validation_data=val_generator, callbacks=[early_stopping])"
   ]
  },
  {
   "cell_type": "markdown",
   "metadata": {},
   "source": [
    "# saving the model weights"
   ]
  },
  {
   "cell_type": "code",
   "execution_count": 136,
   "metadata": {
    "tags": []
   },
   "outputs": [],
   "source": [
    "model.save_weights('models/ocr_100_epoch_0.001_lr.h5')"
   ]
  },
  {
   "cell_type": "markdown",
   "metadata": {},
   "source": [
    "# Evaluating the model"
   ]
  },
  {
   "cell_type": "code",
   "execution_count": 119,
   "metadata": {
    "colab": {
     "background_save": true
    },
    "id": "KRfjgDha-8ic",
    "tags": []
   },
   "outputs": [
    {
     "name": "stdout",
     "output_type": "stream",
     "text": [
      "12/12 [==============================] - 0s 16ms/step - loss: 0.1541 - accuracy: 0.9614\n",
      "test loss, test acc:  0.154 0.961\n"
     ]
    }
   ],
   "source": [
    "test_loss, test_acc = model.evaluate(test_generator)\n",
    "print('test loss, test acc: ', np.round(test_loss, 3), np.round(test_acc, 3))"
   ]
  },
  {
   "cell_type": "markdown",
   "metadata": {},
   "source": [
    "# Making prediction on test data"
   ]
  },
  {
   "cell_type": "code",
   "execution_count": 120,
   "metadata": {
    "colab": {
     "background_save": true
    },
    "id": "44P1rVi2IG4o",
    "tags": []
   },
   "outputs": [
    {
     "name": "stdout",
     "output_type": "stream",
     "text": [
      "6/6 [==============================] - 0s 3ms/step\n"
     ]
    }
   ],
   "source": [
    "prediction = model.predict(X_test)"
   ]
  },
  {
   "cell_type": "markdown",
   "metadata": {},
   "source": [
    "# Extracting logits from the prediction probabilities"
   ]
  },
  {
   "cell_type": "code",
   "execution_count": 121,
   "metadata": {
    "tags": []
   },
   "outputs": [
    {
     "data": {
      "text/plain": [
       "array([1, 0, 5, 0, 0, 5])"
      ]
     },
     "execution_count": 121,
     "metadata": {},
     "output_type": "execute_result"
    }
   ],
   "source": [
    "logits = np.argmax(prediction, axis=-1)"
   ]
  },
  {
   "cell_type": "markdown",
   "metadata": {},
   "source": [
    "# Flattening the logits and y_test for generating metrices"
   ]
  },
  {
   "cell_type": "code",
   "execution_count": 122,
   "metadata": {
    "tags": []
   },
   "outputs": [],
   "source": [
    "flatten_logits = logits.flatten()\n",
    "flatten_y_test = y_test.flatten()"
   ]
  },
  {
   "cell_type": "code",
   "execution_count": 23,
   "metadata": {
    "tags": []
   },
   "outputs": [],
   "source": [
    "flatten_logits = logits.flatten()\n",
    "flatten_y_test = y_test.flatten()"
   ]
  },
  {
   "cell_type": "markdown",
   "metadata": {},
   "source": [
    "# Generating evaluation metrices."
   ]
  },
  {
   "cell_type": "code",
   "execution_count": 66,
   "metadata": {
    "tags": []
   },
   "outputs": [
    {
     "name": "stdout",
     "output_type": "stream",
     "text": [
      "confusion_mat:  [[168   0   1   0   0   0   0   0   0   0]\n",
      " [  0 328   1   0   1   0   0   0   0   0]\n",
      " [  0   0  64   5   0   0   0   1   0   0]\n",
      " [  0   1   0  62   0   0   0   2   0   0]\n",
      " [  0   0   0   0  67   0   0   0   0   0]\n",
      " [  0   0   0   0   0  74   0   0   0   0]\n",
      " [  0   0   0   0   0   0  77   0   0   0]\n",
      " [  1   0   0   0   1   0   0  67   0   0]\n",
      " [  0   1   0   0   0   0   0   0  70   0]\n",
      " [  0   0   0   0   1   0   0   0   0  69]]\n",
      "accuracy:  0.985\n",
      "precision:  [0.994 0.994 0.914 0.954 1.    1.    1.    0.971 0.986 0.986]\n",
      "recall:  [0.994 0.994 0.97  0.925 0.957 1.    1.    0.957 1.    1.   ]\n",
      "f1:  [0.994 0.994 0.941 0.939 0.978 1.    1.    0.964 0.993 0.993]\n"
     ]
    }
   ],
   "source": [
    "from sklearn.metrics import accuracy_score, confusion_matrix, precision_score, recall_score, f1_score\n",
    "\n",
    "accuracy = accuracy_score(flatten_logits, flatten_y_test)\n",
    "confusion_mat = confusion_matrix(flatten_logits, flatten_y_test)\n",
    "\n",
    "# Calculate precision, recall, and F1 score for each class\n",
    "precision = precision_score(flatten_y_test, flatten_logits, average=None)\n",
    "recall = recall_score(flatten_y_test, flatten_logits, average=None)\n",
    "f1 = f1_score(flatten_y_test, flatten_logits, average=None)\n",
    "\n",
    "print('confusion_mat: ', confusion_mat)\n",
    "print('accuracy: ', np.round(accuracy, 3))\n",
    "print(\"precision: \", np.round(precision, 3))\n",
    "print('recall: ', np.round(recall, 3))\n",
    "print('f1: ', np.round(f1, 3))"
   ]
  },
  {
   "cell_type": "code",
   "execution_count": null,
   "metadata": {},
   "outputs": [],
   "source": []
  }
 ],
 "metadata": {
  "colab": {
   "name": "",
   "version": ""
  },
  "kernelspec": {
   "display_name": "conda_tensorflow2_p310",
   "language": "python",
   "name": "conda_tensorflow2_p310"
  },
  "language_info": {
   "codemirror_mode": {
    "name": "ipython",
    "version": 3
   },
   "file_extension": ".py",
   "mimetype": "text/x-python",
   "name": "python",
   "nbconvert_exporter": "python",
   "pygments_lexer": "ipython3",
   "version": "3.10.13"
  }
 },
 "nbformat": 4,
 "nbformat_minor": 4
}
